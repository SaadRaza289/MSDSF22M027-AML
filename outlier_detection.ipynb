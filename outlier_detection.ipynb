{
 "cells": [
  {
   "cell_type": "code",
   "execution_count": 1,
   "id": "b47662c8",
   "metadata": {},
   "outputs": [],
   "source": [
    "import pandas as pd\n",
    "import seaborn as sns\n",
    "import matplotlib.pyplot as plt"
   ]
  },
  {
   "cell_type": "code",
   "execution_count": 2,
   "id": "b8f1c7b1",
   "metadata": {},
   "outputs": [
    {
     "data": {
      "text/html": [
       "<div>\n",
       "<style scoped>\n",
       "    .dataframe tbody tr th:only-of-type {\n",
       "        vertical-align: middle;\n",
       "    }\n",
       "\n",
       "    .dataframe tbody tr th {\n",
       "        vertical-align: top;\n",
       "    }\n",
       "\n",
       "    .dataframe thead th {\n",
       "        text-align: right;\n",
       "    }\n",
       "</style>\n",
       "<table border=\"1\" class=\"dataframe\">\n",
       "  <thead>\n",
       "    <tr style=\"text-align: right;\">\n",
       "      <th></th>\n",
       "      <th>conterfeit</th>\n",
       "      <th>Length</th>\n",
       "      <th>Left</th>\n",
       "      <th>Right</th>\n",
       "      <th>Bottom</th>\n",
       "      <th>Top</th>\n",
       "      <th>Diagonal</th>\n",
       "    </tr>\n",
       "  </thead>\n",
       "  <tbody>\n",
       "    <tr>\n",
       "      <th>0</th>\n",
       "      <td>0</td>\n",
       "      <td>214.8</td>\n",
       "      <td>131.0</td>\n",
       "      <td>131.1</td>\n",
       "      <td>9.0</td>\n",
       "      <td>9.7</td>\n",
       "      <td>141.0</td>\n",
       "    </tr>\n",
       "    <tr>\n",
       "      <th>1</th>\n",
       "      <td>0</td>\n",
       "      <td>214.6</td>\n",
       "      <td>129.7</td>\n",
       "      <td>129.7</td>\n",
       "      <td>8.1</td>\n",
       "      <td>9.5</td>\n",
       "      <td>141.7</td>\n",
       "    </tr>\n",
       "    <tr>\n",
       "      <th>2</th>\n",
       "      <td>0</td>\n",
       "      <td>214.8</td>\n",
       "      <td>129.7</td>\n",
       "      <td>129.7</td>\n",
       "      <td>8.7</td>\n",
       "      <td>9.6</td>\n",
       "      <td>142.2</td>\n",
       "    </tr>\n",
       "    <tr>\n",
       "      <th>3</th>\n",
       "      <td>0</td>\n",
       "      <td>214.8</td>\n",
       "      <td>129.7</td>\n",
       "      <td>129.6</td>\n",
       "      <td>7.5</td>\n",
       "      <td>10.4</td>\n",
       "      <td>142.0</td>\n",
       "    </tr>\n",
       "    <tr>\n",
       "      <th>4</th>\n",
       "      <td>0</td>\n",
       "      <td>215.0</td>\n",
       "      <td>129.6</td>\n",
       "      <td>129.7</td>\n",
       "      <td>10.4</td>\n",
       "      <td>7.7</td>\n",
       "      <td>141.8</td>\n",
       "    </tr>\n",
       "  </tbody>\n",
       "</table>\n",
       "</div>"
      ],
      "text/plain": [
       "   conterfeit  Length   Left  Right  Bottom   Top  Diagonal\n",
       "0           0   214.8  131.0  131.1     9.0   9.7     141.0\n",
       "1           0   214.6  129.7  129.7     8.1   9.5     141.7\n",
       "2           0   214.8  129.7  129.7     8.7   9.6     142.2\n",
       "3           0   214.8  129.7  129.6     7.5  10.4     142.0\n",
       "4           0   215.0  129.6  129.7    10.4   7.7     141.8"
      ]
     },
     "execution_count": 2,
     "metadata": {},
     "output_type": "execute_result"
    }
   ],
   "source": [
    "df = pd.read_csv('datasets/banknotes.csv')\n",
    "df.head()"
   ]
  },
  {
   "cell_type": "code",
   "execution_count": 3,
   "id": "f3c891db",
   "metadata": {},
   "outputs": [
    {
     "name": "stdout",
     "output_type": "stream",
     "text": [
      "<class 'pandas.core.frame.DataFrame'>\n",
      "RangeIndex: 200 entries, 0 to 199\n",
      "Data columns (total 7 columns):\n",
      " #   Column      Non-Null Count  Dtype  \n",
      "---  ------      --------------  -----  \n",
      " 0   conterfeit  200 non-null    int64  \n",
      " 1   Length      200 non-null    float64\n",
      " 2   Left        200 non-null    float64\n",
      " 3   Right       200 non-null    float64\n",
      " 4   Bottom      200 non-null    float64\n",
      " 5   Top         200 non-null    float64\n",
      " 6   Diagonal    200 non-null    float64\n",
      "dtypes: float64(6), int64(1)\n",
      "memory usage: 11.1 KB\n"
     ]
    }
   ],
   "source": [
    "df.info()"
   ]
  },
  {
   "cell_type": "code",
   "execution_count": 4,
   "id": "eacf6e65",
   "metadata": {},
   "outputs": [
    {
     "data": {
      "text/html": [
       "<div>\n",
       "<style scoped>\n",
       "    .dataframe tbody tr th:only-of-type {\n",
       "        vertical-align: middle;\n",
       "    }\n",
       "\n",
       "    .dataframe tbody tr th {\n",
       "        vertical-align: top;\n",
       "    }\n",
       "\n",
       "    .dataframe thead th {\n",
       "        text-align: right;\n",
       "    }\n",
       "</style>\n",
       "<table border=\"1\" class=\"dataframe\">\n",
       "  <thead>\n",
       "    <tr style=\"text-align: right;\">\n",
       "      <th></th>\n",
       "      <th>conterfeit</th>\n",
       "      <th>Length</th>\n",
       "      <th>Left</th>\n",
       "      <th>Right</th>\n",
       "      <th>Bottom</th>\n",
       "      <th>Top</th>\n",
       "      <th>Diagonal</th>\n",
       "    </tr>\n",
       "  </thead>\n",
       "  <tbody>\n",
       "    <tr>\n",
       "      <th>count</th>\n",
       "      <td>200.000000</td>\n",
       "      <td>200.000000</td>\n",
       "      <td>200.000000</td>\n",
       "      <td>200.000000</td>\n",
       "      <td>200.000000</td>\n",
       "      <td>200.000000</td>\n",
       "      <td>200.000000</td>\n",
       "    </tr>\n",
       "    <tr>\n",
       "      <th>mean</th>\n",
       "      <td>0.500000</td>\n",
       "      <td>214.896000</td>\n",
       "      <td>130.121500</td>\n",
       "      <td>129.956500</td>\n",
       "      <td>9.417500</td>\n",
       "      <td>10.650500</td>\n",
       "      <td>140.483500</td>\n",
       "    </tr>\n",
       "    <tr>\n",
       "      <th>std</th>\n",
       "      <td>0.501255</td>\n",
       "      <td>0.376554</td>\n",
       "      <td>0.361026</td>\n",
       "      <td>0.404072</td>\n",
       "      <td>1.444603</td>\n",
       "      <td>0.802947</td>\n",
       "      <td>1.152266</td>\n",
       "    </tr>\n",
       "    <tr>\n",
       "      <th>min</th>\n",
       "      <td>0.000000</td>\n",
       "      <td>213.800000</td>\n",
       "      <td>129.000000</td>\n",
       "      <td>129.000000</td>\n",
       "      <td>7.200000</td>\n",
       "      <td>7.700000</td>\n",
       "      <td>137.800000</td>\n",
       "    </tr>\n",
       "    <tr>\n",
       "      <th>25%</th>\n",
       "      <td>0.000000</td>\n",
       "      <td>214.600000</td>\n",
       "      <td>129.900000</td>\n",
       "      <td>129.700000</td>\n",
       "      <td>8.200000</td>\n",
       "      <td>10.100000</td>\n",
       "      <td>139.500000</td>\n",
       "    </tr>\n",
       "    <tr>\n",
       "      <th>50%</th>\n",
       "      <td>0.500000</td>\n",
       "      <td>214.900000</td>\n",
       "      <td>130.200000</td>\n",
       "      <td>130.000000</td>\n",
       "      <td>9.100000</td>\n",
       "      <td>10.600000</td>\n",
       "      <td>140.450000</td>\n",
       "    </tr>\n",
       "    <tr>\n",
       "      <th>75%</th>\n",
       "      <td>1.000000</td>\n",
       "      <td>215.100000</td>\n",
       "      <td>130.400000</td>\n",
       "      <td>130.225000</td>\n",
       "      <td>10.600000</td>\n",
       "      <td>11.200000</td>\n",
       "      <td>141.500000</td>\n",
       "    </tr>\n",
       "    <tr>\n",
       "      <th>max</th>\n",
       "      <td>1.000000</td>\n",
       "      <td>216.300000</td>\n",
       "      <td>131.000000</td>\n",
       "      <td>131.100000</td>\n",
       "      <td>12.700000</td>\n",
       "      <td>12.300000</td>\n",
       "      <td>142.400000</td>\n",
       "    </tr>\n",
       "  </tbody>\n",
       "</table>\n",
       "</div>"
      ],
      "text/plain": [
       "       conterfeit      Length        Left       Right      Bottom         Top  \\\n",
       "count  200.000000  200.000000  200.000000  200.000000  200.000000  200.000000   \n",
       "mean     0.500000  214.896000  130.121500  129.956500    9.417500   10.650500   \n",
       "std      0.501255    0.376554    0.361026    0.404072    1.444603    0.802947   \n",
       "min      0.000000  213.800000  129.000000  129.000000    7.200000    7.700000   \n",
       "25%      0.000000  214.600000  129.900000  129.700000    8.200000   10.100000   \n",
       "50%      0.500000  214.900000  130.200000  130.000000    9.100000   10.600000   \n",
       "75%      1.000000  215.100000  130.400000  130.225000   10.600000   11.200000   \n",
       "max      1.000000  216.300000  131.000000  131.100000   12.700000   12.300000   \n",
       "\n",
       "         Diagonal  \n",
       "count  200.000000  \n",
       "mean   140.483500  \n",
       "std      1.152266  \n",
       "min    137.800000  \n",
       "25%    139.500000  \n",
       "50%    140.450000  \n",
       "75%    141.500000  \n",
       "max    142.400000  "
      ]
     },
     "execution_count": 4,
     "metadata": {},
     "output_type": "execute_result"
    }
   ],
   "source": [
    "df.describe()"
   ]
  },
  {
   "cell_type": "code",
   "execution_count": 5,
   "id": "f3df4188",
   "metadata": {},
   "outputs": [
    {
     "data": {
      "image/png": "[encoded data removed]",
      "text/plain": [
       "<Figure size 432x288 with 7 Axes>"
      ]
     },
     "metadata": {
      "needs_background": "light"
     },
     "output_type": "display_data"
    }
   ],
   "source": [
    "fig,(ax1, ax2, ax3, ax4, ax5, ax6, ax7) = plt.subplots(nrows= 1, ncols=7)\n",
    "sns.histplot(x = \"conterfeit\", data = df, color = 'blue' , ax = ax1)\n",
    "sns.histplot(x = \"Length\", data = df, color = 'green', ax = ax2)\n",
    "sns.histplot(x = \"Left\", data = df, color = 'red', ax = ax3)\n",
    "sns.histplot(x = \"Right\", data = df, color = 'brown', ax = ax4)\n",
    "sns.histplot(x = \"Bottom\", data = df, color = 'purple', ax = ax5)\n",
    "sns.histplot(x = \"Top\", data = df, color = 'orange', ax = ax6)\n",
    "sns.histplot(x = \"Diagonal\", data = df, color = 'grey' , ax =ax7);"
   ]
  },
  {
   "cell_type": "code",
   "execution_count": 6,
   "id": "134a3778",
   "metadata": {},
   "outputs": [
    {
     "data": {
      "image/png": "[encoded data removed]",
      "text/plain": [
       "<Figure size 1152x432 with 7 Axes>"
      ]
     },
     "metadata": {
      "needs_background": "light"
     },
     "output_type": "display_data"
    }
   ],
   "source": [
    "fig, axes = plt.subplots(nrows=1, ncols=7, figsize=(16, 6))\n",
    "\n",
    "column_names = [\"conterfeit\", \"Length\", \"Left\", \"Right\", \"Bottom\", \"Top\", \"Diagonal\"]\n",
    "colors = ['blue', 'green', 'red', 'brown', 'purple', 'orange', 'grey']\n",
    "\n",
    "for i, column in enumerate(column_names):\n",
    "    sns.histplot(x=column, data=df, color=colors[i], ax=axes[i])\n",
    "\n",
    "\n",
    "plt.tight_layout()\n",
    "plt.show()\n"
   ]
  },
  {
   "cell_type": "markdown",
   "id": "1a9eece4",
   "metadata": {},
   "source": [
    "# outlier detection in Lenght feature"
   ]
  },
  {
   "cell_type": "code",
   "execution_count": 7,
   "id": "8cda7364",
   "metadata": {},
   "outputs": [
    {
     "name": "stdout",
     "output_type": "stream",
     "text": [
      "mean =  214.896\n",
      "std div =  0.37655406626953336\n",
      "minimum value =  213.8\n",
      "maximum value =  216.3\n"
     ]
    },
    {
     "data": {
      "image/png": "[encoded data removed]",
      "text/plain": [
       "<Figure size 360x360 with 1 Axes>"
      ]
     },
     "metadata": {
      "needs_background": "light"
     },
     "output_type": "display_data"
    }
   ],
   "source": [
    "mu_length = df[\"Length\"].mean()\n",
    "sigma_length = df['Length'].std()\n",
    "minimum_length = df['Length'].min()\n",
    "maximum_length = df['Length'].max()\n",
    "\n",
    "\n",
    "print(\"mean = \", mu_length)\n",
    "print(\"std div = \", sigma_length)\n",
    "print(\"minimum value = \", minimum_length)\n",
    "print(\"maximum value = \", maximum_length)\n",
    "\n",
    "\n",
    "sns.displot(x = \"Length\", data = df, kind = \"hist\", bins = 40, color = 'green')\n",
    "plt.axvline(df['Length'].mean(), color  = 'orange')\n",
    "for i in [-3, -2, -1, 1, 2, 3]:\n",
    "    plt.axvline(mu_length + i*sigma_length, color = 'red')\n",
    "    \n",
    "    \n",
    "plt.show()"
   ]
  },
  {
   "cell_type": "code",
   "execution_count": 8,
   "id": "29cce086",
   "metadata": {},
   "outputs": [
    {
     "name": "stdout",
     "output_type": "stream",
     "text": [
      "lower limit 213.76633780119138\n",
      "upper limit 216.0256621988086\n"
     ]
    }
   ],
   "source": [
    "lower_limit_length = mu_length - 3* sigma_length\n",
    "upper_limit_length = mu_length + 3* sigma_length\n",
    "print('lower limit', lower_limit_length)\n",
    "print('upper limit', upper_limit_length)"
   ]
  },
  {
   "cell_type": "code",
   "execution_count": 9,
   "id": "f69dae69",
   "metadata": {},
   "outputs": [
    {
     "data": {
      "text/html": [
       "<div>\n",
       "<style scoped>\n",
       "    .dataframe tbody tr th:only-of-type {\n",
       "        vertical-align: middle;\n",
       "    }\n",
       "\n",
       "    .dataframe tbody tr th {\n",
       "        vertical-align: top;\n",
       "    }\n",
       "\n",
       "    .dataframe thead th {\n",
       "        text-align: right;\n",
       "    }\n",
       "</style>\n",
       "<table border=\"1\" class=\"dataframe\">\n",
       "  <thead>\n",
       "    <tr style=\"text-align: right;\">\n",
       "      <th></th>\n",
       "      <th>conterfeit</th>\n",
       "      <th>Length</th>\n",
       "      <th>Left</th>\n",
       "      <th>Right</th>\n",
       "      <th>Bottom</th>\n",
       "      <th>Top</th>\n",
       "      <th>Diagonal</th>\n",
       "    </tr>\n",
       "  </thead>\n",
       "  <tbody>\n",
       "    <tr>\n",
       "      <th>166</th>\n",
       "      <td>1</td>\n",
       "      <td>216.3</td>\n",
       "      <td>130.7</td>\n",
       "      <td>130.4</td>\n",
       "      <td>10.0</td>\n",
       "      <td>10.1</td>\n",
       "      <td>138.8</td>\n",
       "    </tr>\n",
       "  </tbody>\n",
       "</table>\n",
       "</div>"
      ],
      "text/plain": [
       "     conterfeit  Length   Left  Right  Bottom   Top  Diagonal\n",
       "166           1   216.3  130.7  130.4    10.0  10.1     138.8"
      ]
     },
     "execution_count": 9,
     "metadata": {},
     "output_type": "execute_result"
    }
   ],
   "source": [
    "df[(df['Length'] > upper_limit_length) | (df['Length'] < lower_limit_length)]"
   ]
  },
  {
   "cell_type": "code",
   "execution_count": 10,
   "id": "8bb2065a",
   "metadata": {},
   "outputs": [],
   "source": [
    "df.drop(166, axis= 0, inplace=True)"
   ]
  },
  {
   "cell_type": "code",
   "execution_count": null,
   "id": "6a04c6f5",
   "metadata": {},
   "outputs": [],
   "source": []
  },
  {
   "cell_type": "markdown",
   "id": "2d04ae7e",
   "metadata": {},
   "source": [
    "# outlier in left feature"
   ]
  },
  {
   "cell_type": "code",
   "execution_count": 11,
   "id": "2365bc77",
   "metadata": {},
   "outputs": [
    {
     "name": "stdout",
     "output_type": "stream",
     "text": [
      "mean =  130.1185929648241\n",
      "std div =  0.3595817297281627\n",
      "maximum value =  131.0\n",
      "minimum value =  129.0\n"
     ]
    },
    {
     "data": {
      "image/png": "[encoded data removed]",
      "text/plain": [
       "<Figure size 360x360 with 1 Axes>"
      ]
     },
     "metadata": {
      "needs_background": "light"
     },
     "output_type": "display_data"
    }
   ],
   "source": [
    "mu_left = df[\"Left\"].mean()\n",
    "sigma_left = df[\"Left\"].std()\n",
    "maximum_left = df[\"Left\"].max()\n",
    "minimum_left = df[\"Left\"].min()\n",
    "\n",
    "\n",
    "\n",
    "print(\"mean = \", mu_left)\n",
    "print(\"std div = \", sigma_left)\n",
    "print(\"maximum value = \", maximum_left)\n",
    "print(\"minimum value = \", minimum_left)\n",
    "\n",
    "\n",
    "\n",
    "sns.displot(x = \"Left\", data = df, kind = \"hist\", color = \"green\")\n",
    "plt.axvline(mu_left, color = \"orange\")\n",
    "for i in [-3, -2, -1, 1, 2, 3]:\n",
    "    plt.axvline(mu_left + i*sigma_left, color = \"red\")\n",
    "    \n",
    "plt.show()"
   ]
  },
  {
   "cell_type": "code",
   "execution_count": 14,
   "id": "2b721e37",
   "metadata": {},
   "outputs": [
    {
     "name": "stdout",
     "output_type": "stream",
     "text": [
      "upper limit 131.1973381540086\n",
      "lower limit 129.0398477756396\n"
     ]
    }
   ],
   "source": [
    "upper_limit_left = mu_left + 3 * sigma_left\n",
    "lower_limit_left = mu_left - 3 * sigma_left\n",
    "\n",
    "print(\"upper limit\", upper_limit_left)\n",
    "print(\"lower limit\", lower_limit_left)"
   ]
  },
  {
   "cell_type": "code",
   "execution_count": 15,
   "id": "96d2fcbb",
   "metadata": {},
   "outputs": [
    {
     "data": {
      "text/html": [
       "<div>\n",
       "<style scoped>\n",
       "    .dataframe tbody tr th:only-of-type {\n",
       "        vertical-align: middle;\n",
       "    }\n",
       "\n",
       "    .dataframe tbody tr th {\n",
       "        vertical-align: top;\n",
       "    }\n",
       "\n",
       "    .dataframe thead th {\n",
       "        text-align: right;\n",
       "    }\n",
       "</style>\n",
       "<table border=\"1\" class=\"dataframe\">\n",
       "  <thead>\n",
       "    <tr style=\"text-align: right;\">\n",
       "      <th></th>\n",
       "      <th>conterfeit</th>\n",
       "      <th>Length</th>\n",
       "      <th>Left</th>\n",
       "      <th>Right</th>\n",
       "      <th>Bottom</th>\n",
       "      <th>Top</th>\n",
       "      <th>Diagonal</th>\n",
       "    </tr>\n",
       "  </thead>\n",
       "  <tbody>\n",
       "    <tr>\n",
       "      <th>49</th>\n",
       "      <td>0</td>\n",
       "      <td>214.5</td>\n",
       "      <td>129.0</td>\n",
       "      <td>129.6</td>\n",
       "      <td>7.8</td>\n",
       "      <td>9.8</td>\n",
       "      <td>142.0</td>\n",
       "    </tr>\n",
       "  </tbody>\n",
       "</table>\n",
       "</div>"
      ],
      "text/plain": [
       "    conterfeit  Length   Left  Right  Bottom  Top  Diagonal\n",
       "49           0   214.5  129.0  129.6     7.8  9.8     142.0"
      ]
     },
     "execution_count": 15,
     "metadata": {},
     "output_type": "execute_result"
    }
   ],
   "source": [
    "df[(df[\"Left\"] > upper_limit_left) | (df[\"Left\"] < lower_limit_left)]"
   ]
  },
  {
   "cell_type": "code",
   "execution_count": 16,
   "id": "ae92f092",
   "metadata": {},
   "outputs": [],
   "source": [
    "df.drop(49,axis =0 ,inplace=True)"
   ]
  },
  {
   "cell_type": "code",
   "execution_count": null,
   "id": "e1dbdc31",
   "metadata": {},
   "outputs": [],
   "source": []
  },
  {
   "cell_type": "markdown",
   "id": "07f9d8ba",
   "metadata": {},
   "source": [
    "# Outlier in right feature"
   ]
  },
  {
   "cell_type": "code",
   "execution_count": 21,
   "id": "5d8039fb",
   "metadata": {},
   "outputs": [
    {
     "name": "stdout",
     "output_type": "stream",
     "text": [
      "mean =  129.9560606060606\n",
      "std div =  0.40408904427010056\n",
      "maximum value =  131.1\n",
      "minimum value =  129.0\n"
     ]
    },
    {
     "data": {
      "image/png": "[encoded data removed]",
      "text/plain": [
       "<Figure size 360x360 with 1 Axes>"
      ]
     },
     "metadata": {
      "needs_background": "light"
     },
     "output_type": "display_data"
    }
   ],
   "source": [
    "mu_right = df[\"Right\"].mean()\n",
    "sigma_right = df[\"Right\"].std()\n",
    "maximum_right = df[\"Right\"].max()\n",
    "minimum_right = df[\"Right\"].min()\n",
    "\n",
    "\n",
    "print(\"mean = \", mu_right)\n",
    "print(\"std div = \", sigma_right)\n",
    "print(\"maximum value = \", maximum_right)\n",
    "print(\"minimum value = \", minimum_right)\n",
    "\n",
    "\n",
    "sns.displot(x = \"Right\", data = df, kind = \"hist\", color = \"green\")\n",
    "plt.axvline(mu_right, color = \"orange\")\n",
    "for i in [-3, -2, -1, 1, 2, 3]:\n",
    "    plt.axvline(mu_right + i * sigma_right, color = \"red\")\n",
    "\n",
    "    \n",
    "plt.show()"
   ]
  },
  {
   "cell_type": "code",
   "execution_count": null,
   "id": "180c5ed0",
   "metadata": {},
   "outputs": [],
   "source": []
  }
 ],
 "metadata": {
  "kernelspec": {
   "display_name": "Python 3 (ipykernel)",
   "language": "python",
   "name": "python3"
  },
  "language_info": {
   "codemirror_mode": {
    "name": "ipython",
    "version": 3
   },
   "file_extension": ".py",
   "mimetype": "text/x-python",
   "name": "python",
   "nbconvert_exporter": "python",
   "pygments_lexer": "ipython3",
   "version": "3.9.12"
  }
 },
 "nbformat": 4,
 "nbformat_minor": 5
}
