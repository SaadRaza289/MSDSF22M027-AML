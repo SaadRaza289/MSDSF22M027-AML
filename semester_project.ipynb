{
 "cells": [
  {
   "cell_type": "code",
   "execution_count": 1,
   "id": "b6a38c6f",
   "metadata": {},
   "outputs": [],
   "source": [
    "from selenium import webdriver\n",
    "import time\n",
    "from selenium.webdriver.common.by import By\n",
    "from selenium.webdriver.support.select import Select\n",
    "import requests\n",
    "import bs4\n",
    "from bs4 import BeautifulSoup\n",
    "import lxml\n",
    "import html5lib\n",
    "\n",
    "import pandas as pd\n",
    "import numpy as np\n",
    "import matplotlib.pyplot as plt\n",
    "import seaborn as sns\n",
    "\n",
    "from sklearn.model_selection import train_test_split\n",
    "from sklearn.impute import SimpleImputer\n",
    "from sklearn.preprocessing import LabelEncoder\n",
    "from sklearn.preprocessing import OneHotEncoder\n",
    "from sklearn.preprocessing import OrdinalEncoder\n",
    "from sklearn.preprocessing import StandardScaler\n",
    "from sklearn.compose import ColumnTransformer\n",
    "from sklearn.pipeline import Pipeline\n",
    "from sklearn.linear_model import LinearRegression\n",
    "from sklearn.metrics import mean_absolute_error, mean_squared_error\n"
   ]
  },
  {
   "cell_type": "code",
   "execution_count": null,
   "id": "302ab6ce",
   "metadata": {},
   "outputs": [],
   "source": [
    "# Set up the options for the Chrome WebDriver\n",
    "chrome_options = webdriver.ChromeOptions()\n",
    "# You can add additional options if needed, such as specifying the Chrome binary location.\n",
    "\n",
    "# Create the Chrome WebDriver instance using the specified options\n",
    "driver = webdriver.Chrome(options=chrome_options)\n",
    "\n",
    "# Now you can use the driver to navigate to a website\n",
    "driver.get(\"https://www.booking.com\")\n",
    "time.sleep(10)\n"
   ]
  },
  {
   "cell_type": "markdown",
   "id": "03b8fc75",
   "metadata": {},
   "source": [
    "### Remove Popup"
   ]
  },
  {
   "cell_type": "code",
   "execution_count": null,
   "id": "74e6005f",
   "metadata": {},
   "outputs": [],
   "source": [
    "try:\n",
    "    popup = driver.find_element(By.XPATH, '//*[@id=\"b2indexPage\"]/div[17]/div/div/div/div[1]/div[1]/div/button')\n",
    "    popup.click()\n",
    "except:\n",
    "    pass"
   ]
  },
  {
   "cell_type": "markdown",
   "id": "f1815102",
   "metadata": {},
   "source": [
    "### Pass value in filters"
   ]
  },
  {
   "cell_type": "code",
   "execution_count": null,
   "id": "416cf54e",
   "metadata": {},
   "outputs": [],
   "source": [
    "location = driver.find_element(By.XPATH, '//input[@class=\"eb46370fe1\"]')\n",
    "location.click()\n",
    "location.send_keys('Lahore')\n",
    "time.sleep(1)"
   ]
  },
  {
   "cell_type": "code",
   "execution_count": null,
   "id": "a7956404",
   "metadata": {},
   "outputs": [],
   "source": [
    "start_date = driver.find_element(By.XPATH,'//div[@class=\"f73e6603bf\"]')\n",
    "start_date.click()\n",
    "\n",
    "check_in = driver.find_element(By.XPATH, '//*[@id=\"calendar-searchboxdatepicker\"]/div/div[1]/div/div[1]/table/tbody/tr[5]/td[3]/span')\n",
    "check_in.click()\n",
    "time.sleep(1)\n",
    "\n",
    "check_out = driver.find_element(By.XPATH, '//*[@id=\"calendar-searchboxdatepicker\"]/div/div[1]/div/div[1]/table/tbody/tr[5]/td[4]/span')\n",
    "check_out.click()"
   ]
  },
  {
   "cell_type": "code",
   "execution_count": null,
   "id": "6744247d",
   "metadata": {},
   "outputs": [],
   "source": [
    "adult_chlidren_room = driver.find_element(By.XPATH,'//button[@class=\"a83ed08757 ebbedaf8ac ada2387af8\"]')\n",
    "adult_chlidren_room.click()\n",
    "time.sleep(1)\n",
    "\n",
    "no_of_adult = driver.find_element(By.XPATH, '//button[@class=\"a83ed08757 c21c56c305 f38b6daa18 d691166b09 ab98298258 deab83296e bb803d8689 f4d78af12a\"]')\n",
    "no_of_adult.click()\n",
    "time.sleep(1)\n",
    "\n",
    "no_of_chlidren = driver.find_element(By.XPATH, '//*[@id=\"indexsearch\"]/div[2]/div/form/div[1]/div[3]/div/div/div/div/div[2]/div[2]/button[2]')\n",
    "no_of_chlidren.click()\n",
    "time.sleep(1)\n",
    "\n",
    "dropdown = driver.find_element(By.XPATH, '//select[@class=\"ebf4591c8e\"]')\n",
    "age = Select(dropdown)\n",
    "age.select_by_visible_text('1 year old')\n",
    "\n",
    "\n",
    "\n",
    "submit_button = driver.find_element(By.XPATH, '//*[@id=\"indexsearch\"]/div[2]/div/form/div[1]/div[4]/button')\n",
    "submit_button.click()\n",
    "time.sleep(1)"
   ]
  },
  {
   "cell_type": "markdown",
   "id": "b412743e",
   "metadata": {},
   "source": [
    "# Using beautifulsoup to scrape data\n",
    "### Using different combination of filters I scraped almost 7000 data record from this website"
   ]
  },
  {
   "cell_type": "code",
   "execution_count": null,
   "id": "5be8ab91",
   "metadata": {},
   "outputs": [],
   "source": [
    "hotel_name = []\n",
    "city = []\n",
    "reviews = []\n",
    "rating = []\n",
    "distance = []\n",
    "nights = []\n",
    "no_of_adult = []\n",
    "price = []\n",
    "\n",
    "\n",
    "for i in range(11):\n",
    "    soup = BeautifulSoup(driver.page_source, 'lxml')\n",
    "    sp_hotels_names = soup.find_all('div', attrs={'data-testid': 'title'})\n",
    "    time.sleep(2)\n",
    "    sp_city = soup.find_all('span', attrs={'class': 'aee5343fdb def9bc142a', 'data-testid': 'address'})\n",
    "    time.sleep(2)\n",
    "    sp_reviews = soup.find_all('div', attrs={'class' : 'abf093bdfe f45d8e4c32 d935416c47'})\n",
    "    time.sleep(2)\n",
    "    sp_rating = soup.find_all('div', attrs={'class':'a3b8729ab1 d86cee9b25'})\n",
    "    time.sleep(2)\n",
    "    sp_distance_from_center = soup.find_all('span',attrs={'aria-expanded':\"false\", 'data-testid':\"distance\"})\n",
    "    time.sleep(2)\n",
    "    sp_nights = soup.find_all('div', attrs={'class':\"abf093bdfe f45d8e4c32\", 'data-testid':'price-for-x-nights'})\n",
    "    time.sleep(2)\n",
    "    sp_price = soup.find_all('span', attrs={'class' : 'f6431b446c fbfd7c1165 e84eb96b1f'})\n",
    "    time.sleep(2)\n",
    "    \n",
    "    for i in range(len(sp_hotels_names)):\n",
    "        hotel_name.append(sp_hotels_names[i].text)\n",
    "        city.append(sp_city[i].text)\n",
    "        distance.append(sp_distance_from_center[i].text.split()[0])\n",
    "        nights.append(sp_nights[i].text[0])\n",
    "        no_of_adult.append(sp_nights[i].text[9])\n",
    "        price.append(sp_price[i].text.split()[1])\n",
    "        \n",
    "    for i in range(len(sp_reviews)):\n",
    "        reviews.append(sp_reviews[i].text.split()[0])\n",
    "    for i in range(len(sp_rating)):\n",
    "        rating.append(sp_rating[i].text)\n",
    "        \n",
    "        \n",
    "\n",
    "    next = driver.find_element(By.XPATH, '//button[@aria-label=\"Next page\"]')\n",
    "    next.click()\n",
    "    time.sleep(10)\n",
    "    \n",
    "\n",
    "driver.quit()"
   ]
  },
  {
   "cell_type": "markdown",
   "id": "3372b981",
   "metadata": {},
   "source": [
    "### ADDING SCRAPE DATA TO PANDAS DATAFRAME"
   ]
  },
  {
   "cell_type": "code",
   "execution_count": null,
   "id": "995c4850",
   "metadata": {},
   "outputs": [],
   "source": [
    "max_length = max(len(reviews), len(hotel_name),len(rating))\n",
    "\n",
    "import pandas as pd\n",
    "data = {'Name':hotel_name, \n",
    "        'City':city,\n",
    "        'Reviews':reviews +  [None] * (max_length - len(reviews)), \n",
    "        'Rating':rating +  [None] * (max_length - len(rating)),\n",
    "        'Distance':distance, 'Nights':nights, 'No_of_adult':no_of_adult, 'Price':price}\n",
    "df = pd.DataFrame(data)"
   ]
  },
  {
   "cell_type": "code",
   "execution_count": null,
   "id": "9fc0f3e4",
   "metadata": {},
   "outputs": [],
   "source": [
    "df.to_csv('hotel_prices.csv', index=False)"
   ]
  },
  {
   "cell_type": "code",
   "execution_count": null,
   "id": "9852ff67",
   "metadata": {},
   "outputs": [],
   "source": [
    "existing_file_path = 'hotel_prices.csv'\n",
    "existing_data = pd.read_csv(existing_file_path)\n",
    "\n",
    "updated_data = existing_data.append(df, ignore_index=True)\n",
    "\n",
    "updated_data.to_csv('hotel_prices.csv', index=False)"
   ]
  },
  {
   "cell_type": "code",
   "execution_count": null,
   "id": "61fd8f97",
   "metadata": {},
   "outputs": [],
   "source": []
  },
  {
   "cell_type": "code",
   "execution_count": 2,
   "id": "c8121284",
   "metadata": {},
   "outputs": [
    {
     "data": {
      "text/plain": [
       "(7321, 9)"
      ]
     },
     "execution_count": 2,
     "metadata": {},
     "output_type": "execute_result"
    }
   ],
   "source": [
    "df = pd.read_csv('hotel_prices.csv', encoding='ISO-8859-1')\n",
    "df.shape"
   ]
  },
  {
   "cell_type": "code",
   "execution_count": 3,
   "id": "9fd8d96c",
   "metadata": {},
   "outputs": [
    {
     "data": {
      "text/html": [
       "<div>\n",
       "<style scoped>\n",
       "    .dataframe tbody tr th:only-of-type {\n",
       "        vertical-align: middle;\n",
       "    }\n",
       "\n",
       "    .dataframe tbody tr th {\n",
       "        vertical-align: top;\n",
       "    }\n",
       "\n",
       "    .dataframe thead th {\n",
       "        text-align: right;\n",
       "    }\n",
       "</style>\n",
       "<table border=\"1\" class=\"dataframe\">\n",
       "  <thead>\n",
       "    <tr style=\"text-align: right;\">\n",
       "      <th></th>\n",
       "      <th>Name</th>\n",
       "      <th>City</th>\n",
       "      <th>Reviews</th>\n",
       "      <th>Rating</th>\n",
       "      <th>Distance</th>\n",
       "      <th>Nights</th>\n",
       "      <th>No_of_adult</th>\n",
       "      <th>Price</th>\n",
       "      <th>No_of_room</th>\n",
       "    </tr>\n",
       "  </thead>\n",
       "  <tbody>\n",
       "    <tr>\n",
       "      <th>0</th>\n",
       "      <td>One Constitution Avenue by Goldfinch</td>\n",
       "      <td>Islamabad</td>\n",
       "      <td>234</td>\n",
       "      <td>7.4</td>\n",
       "      <td>2.3</td>\n",
       "      <td>1</td>\n",
       "      <td>1</td>\n",
       "      <td>18,240</td>\n",
       "      <td>1</td>\n",
       "    </tr>\n",
       "    <tr>\n",
       "      <th>1</th>\n",
       "      <td>Villa Vista</td>\n",
       "      <td>Islamabad</td>\n",
       "      <td>17</td>\n",
       "      <td>9.1</td>\n",
       "      <td>1.6</td>\n",
       "      <td>1</td>\n",
       "      <td>1</td>\n",
       "      <td>22,320</td>\n",
       "      <td>1</td>\n",
       "    </tr>\n",
       "    <tr>\n",
       "      <th>2</th>\n",
       "      <td>SK Residence</td>\n",
       "      <td>Islamabad</td>\n",
       "      <td>98</td>\n",
       "      <td>9.0</td>\n",
       "      <td>11.7</td>\n",
       "      <td>1</td>\n",
       "      <td>1</td>\n",
       "      <td>7,600</td>\n",
       "      <td>1</td>\n",
       "    </tr>\n",
       "    <tr>\n",
       "      <th>3</th>\n",
       "      <td>Royal Regency Hotel</td>\n",
       "      <td>Islamabad</td>\n",
       "      <td>37</td>\n",
       "      <td>8.2</td>\n",
       "      <td>1.0</td>\n",
       "      <td>1</td>\n",
       "      <td>1</td>\n",
       "      <td>22,032</td>\n",
       "      <td>1</td>\n",
       "    </tr>\n",
       "    <tr>\n",
       "      <th>4</th>\n",
       "      <td>Serenity Corner</td>\n",
       "      <td>Islamabad</td>\n",
       "      <td>100</td>\n",
       "      <td>8.1</td>\n",
       "      <td>18.3</td>\n",
       "      <td>1</td>\n",
       "      <td>1</td>\n",
       "      <td>15,000</td>\n",
       "      <td>1</td>\n",
       "    </tr>\n",
       "  </tbody>\n",
       "</table>\n",
       "</div>"
      ],
      "text/plain": [
       "                                   Name       City Reviews  Rating  Distance  \\\n",
       "0  One Constitution Avenue by Goldfinch  Islamabad     234     7.4       2.3   \n",
       "1                           Villa Vista  Islamabad      17     9.1       1.6   \n",
       "2                          SK Residence  Islamabad      98     9.0      11.7   \n",
       "3                   Royal Regency Hotel  Islamabad      37     8.2       1.0   \n",
       "4                       Serenity Corner  Islamabad     100     8.1      18.3   \n",
       "\n",
       "   Nights No_of_adult   Price  No_of_room  \n",
       "0       1           1  18,240           1  \n",
       "1       1           1  22,320           1  \n",
       "2       1           1   7,600           1  \n",
       "3       1           1  22,032           1  \n",
       "4       1           1  15,000           1  "
      ]
     },
     "execution_count": 3,
     "metadata": {},
     "output_type": "execute_result"
    }
   ],
   "source": [
    "df.head()"
   ]
  },
  {
   "cell_type": "code",
   "execution_count": 4,
   "id": "687e0131",
   "metadata": {},
   "outputs": [
    {
     "name": "stdout",
     "output_type": "stream",
     "text": [
      "<class 'pandas.core.frame.DataFrame'>\n",
      "RangeIndex: 7321 entries, 0 to 7320\n",
      "Data columns (total 9 columns):\n",
      " #   Column       Non-Null Count  Dtype  \n",
      "---  ------       --------------  -----  \n",
      " 0   Name         7321 non-null   object \n",
      " 1   City         7321 non-null   object \n",
      " 2   Reviews      6339 non-null   object \n",
      " 3   Rating       6292 non-null   float64\n",
      " 4   Distance     7321 non-null   float64\n",
      " 5   Nights       7321 non-null   int64  \n",
      " 6   No_of_adult  7321 non-null   object \n",
      " 7   Price        7321 non-null   object \n",
      " 8   No_of_room   7321 non-null   int64  \n",
      "dtypes: float64(2), int64(2), object(5)\n",
      "memory usage: 514.9+ KB\n"
     ]
    }
   ],
   "source": [
    "df.info()"
   ]
  },
  {
   "cell_type": "code",
   "execution_count": 5,
   "id": "073c4652",
   "metadata": {},
   "outputs": [],
   "source": [
    "df['Reviews'] = df['Reviews'].str.replace(',', '').astype(float)\n",
    "df['Price'] = df['Price'].str.replace(',', '').astype(int)\n",
    "df['No_of_adult'] = df['No_of_room'].astype(int)"
   ]
  },
  {
   "cell_type": "code",
   "execution_count": 6,
   "id": "44456324",
   "metadata": {},
   "outputs": [
    {
     "data": {
      "text/plain": [
       "Name              0\n",
       "City              0\n",
       "Reviews         982\n",
       "Rating         1029\n",
       "Distance          0\n",
       "Nights            0\n",
       "No_of_adult       0\n",
       "Price             0\n",
       "No_of_room        0\n",
       "dtype: int64"
      ]
     },
     "execution_count": 6,
     "metadata": {},
     "output_type": "execute_result"
    }
   ],
   "source": [
    "df.isna().sum()"
   ]
  },
  {
   "cell_type": "code",
   "execution_count": 7,
   "id": "a4a5106a",
   "metadata": {},
   "outputs": [
    {
     "data": {
      "text/html": [
       "<div>\n",
       "<style scoped>\n",
       "    .dataframe tbody tr th:only-of-type {\n",
       "        vertical-align: middle;\n",
       "    }\n",
       "\n",
       "    .dataframe tbody tr th {\n",
       "        vertical-align: top;\n",
       "    }\n",
       "\n",
       "    .dataframe thead th {\n",
       "        text-align: right;\n",
       "    }\n",
       "</style>\n",
       "<table border=\"1\" class=\"dataframe\">\n",
       "  <thead>\n",
       "    <tr style=\"text-align: right;\">\n",
       "      <th></th>\n",
       "      <th>Reviews</th>\n",
       "      <th>Rating</th>\n",
       "      <th>Distance</th>\n",
       "      <th>Nights</th>\n",
       "      <th>No_of_adult</th>\n",
       "      <th>Price</th>\n",
       "      <th>No_of_room</th>\n",
       "    </tr>\n",
       "  </thead>\n",
       "  <tbody>\n",
       "    <tr>\n",
       "      <th>count</th>\n",
       "      <td>6339.000000</td>\n",
       "      <td>6292.000000</td>\n",
       "      <td>7321.000000</td>\n",
       "      <td>7321.000000</td>\n",
       "      <td>7321.000000</td>\n",
       "      <td>7.321000e+03</td>\n",
       "      <td>7321.000000</td>\n",
       "    </tr>\n",
       "    <tr>\n",
       "      <th>mean</th>\n",
       "      <td>133.196245</td>\n",
       "      <td>7.139431</td>\n",
       "      <td>19.197678</td>\n",
       "      <td>1.288895</td>\n",
       "      <td>1.633383</td>\n",
       "      <td>2.290052e+04</td>\n",
       "      <td>1.633383</td>\n",
       "    </tr>\n",
       "    <tr>\n",
       "      <th>std</th>\n",
       "      <td>337.768943</td>\n",
       "      <td>1.844503</td>\n",
       "      <td>56.274721</td>\n",
       "      <td>0.588829</td>\n",
       "      <td>0.902486</td>\n",
       "      <td>3.679845e+04</td>\n",
       "      <td>0.902486</td>\n",
       "    </tr>\n",
       "    <tr>\n",
       "      <th>min</th>\n",
       "      <td>1.000000</td>\n",
       "      <td>1.000000</td>\n",
       "      <td>0.500000</td>\n",
       "      <td>1.000000</td>\n",
       "      <td>1.000000</td>\n",
       "      <td>4.500000e+02</td>\n",
       "      <td>1.000000</td>\n",
       "    </tr>\n",
       "    <tr>\n",
       "      <th>25%</th>\n",
       "      <td>5.000000</td>\n",
       "      <td>6.300000</td>\n",
       "      <td>4.600000</td>\n",
       "      <td>1.000000</td>\n",
       "      <td>1.000000</td>\n",
       "      <td>7.425000e+03</td>\n",
       "      <td>1.000000</td>\n",
       "    </tr>\n",
       "    <tr>\n",
       "      <th>50%</th>\n",
       "      <td>20.000000</td>\n",
       "      <td>7.400000</td>\n",
       "      <td>8.500000</td>\n",
       "      <td>1.000000</td>\n",
       "      <td>1.000000</td>\n",
       "      <td>1.240000e+04</td>\n",
       "      <td>1.000000</td>\n",
       "    </tr>\n",
       "    <tr>\n",
       "      <th>75%</th>\n",
       "      <td>93.000000</td>\n",
       "      <td>8.300000</td>\n",
       "      <td>12.700000</td>\n",
       "      <td>1.000000</td>\n",
       "      <td>2.000000</td>\n",
       "      <td>2.280000e+04</td>\n",
       "      <td>2.000000</td>\n",
       "    </tr>\n",
       "    <tr>\n",
       "      <th>max</th>\n",
       "      <td>3284.000000</td>\n",
       "      <td>10.000000</td>\n",
       "      <td>450.000000</td>\n",
       "      <td>3.000000</td>\n",
       "      <td>4.000000</td>\n",
       "      <td>1.027050e+06</td>\n",
       "      <td>4.000000</td>\n",
       "    </tr>\n",
       "  </tbody>\n",
       "</table>\n",
       "</div>"
      ],
      "text/plain": [
       "           Reviews       Rating     Distance       Nights  No_of_adult  \\\n",
       "count  6339.000000  6292.000000  7321.000000  7321.000000  7321.000000   \n",
       "mean    133.196245     7.139431    19.197678     1.288895     1.633383   \n",
       "std     337.768943     1.844503    56.274721     0.588829     0.902486   \n",
       "min       1.000000     1.000000     0.500000     1.000000     1.000000   \n",
       "25%       5.000000     6.300000     4.600000     1.000000     1.000000   \n",
       "50%      20.000000     7.400000     8.500000     1.000000     1.000000   \n",
       "75%      93.000000     8.300000    12.700000     1.000000     2.000000   \n",
       "max    3284.000000    10.000000   450.000000     3.000000     4.000000   \n",
       "\n",
       "              Price   No_of_room  \n",
       "count  7.321000e+03  7321.000000  \n",
       "mean   2.290052e+04     1.633383  \n",
       "std    3.679845e+04     0.902486  \n",
       "min    4.500000e+02     1.000000  \n",
       "25%    7.425000e+03     1.000000  \n",
       "50%    1.240000e+04     1.000000  \n",
       "75%    2.280000e+04     2.000000  \n",
       "max    1.027050e+06     4.000000  "
      ]
     },
     "execution_count": 7,
     "metadata": {},
     "output_type": "execute_result"
    }
   ],
   "source": [
    "df.describe()"
   ]
  },
  {
   "cell_type": "code",
   "execution_count": 8,
   "id": "2a3aeeb7",
   "metadata": {},
   "outputs": [
    {
     "data": {
      "image/png": "[encoded data removed]",
      "text/plain": [
       "<Figure size 432x288 with 1 Axes>"
      ]
     },
     "metadata": {
      "needs_background": "light"
     },
     "output_type": "display_data"
    },
    {
     "data": {
      "image/png": "[encoded data removed]",
      "text/plain": [
       "<Figure size 432x288 with 1 Axes>"
      ]
     },
     "metadata": {
      "needs_background": "light"
     },
     "output_type": "display_data"
    },
    {
     "data": {
      "image/png": "[encoded data removed]",
      "text/plain": [
       "<Figure size 432x288 with 1 Axes>"
      ]
     },
     "metadata": {
      "needs_background": "light"
     },
     "output_type": "display_data"
    }
   ],
   "source": [
    "target_columns = ['Reviews','Rating','Distance']\n",
    "\n",
    "\n",
    "for columns in df.columns:\n",
    "    if columns in target_columns:\n",
    "        plt.Figure(figsize=(8,4))\n",
    "        sns.histplot(df[columns],kde = True)\n",
    "        plt.title(f'Histogram of {columns}')\n",
    "        plt.xlabel(columns)\n",
    "        plt.ylabel('Frequency')\n",
    "        plt.show()"
   ]
  },
  {
   "cell_type": "code",
   "execution_count": 9,
   "id": "2f448880",
   "metadata": {},
   "outputs": [
    {
     "data": {
      "image/png": "[encoded data removed]",
      "text/plain": [
       "<Figure size 432x288 with 2 Axes>"
      ]
     },
     "metadata": {
      "needs_background": "light"
     },
     "output_type": "display_data"
    }
   ],
   "source": [
    "correlation_matrix = df.corr()\n",
    "sns.heatmap(correlation_matrix, annot=True, cmap='coolwarm')\n",
    "plt.title('Correlation Matrix')\n",
    "plt.show()"
   ]
  },
  {
   "cell_type": "code",
   "execution_count": 10,
   "id": "ebe8e6e2",
   "metadata": {},
   "outputs": [
    {
     "data": {
      "image/png": "[encoded data removed]",
      "text/plain": [
       "<Figure size 432x288 with 1 Axes>"
      ]
     },
     "metadata": {
      "needs_background": "light"
     },
     "output_type": "display_data"
    }
   ],
   "source": [
    "sns.countplot(x='City', data=df)\n",
    "plt.title('Count of City')\n",
    "plt.show()"
   ]
  },
  {
   "cell_type": "code",
   "execution_count": 11,
   "id": "db84384c",
   "metadata": {},
   "outputs": [
    {
     "data": {
      "text/html": [
       "<div>\n",
       "<style scoped>\n",
       "    .dataframe tbody tr th:only-of-type {\n",
       "        vertical-align: middle;\n",
       "    }\n",
       "\n",
       "    .dataframe tbody tr th {\n",
       "        vertical-align: top;\n",
       "    }\n",
       "\n",
       "    .dataframe thead th {\n",
       "        text-align: right;\n",
       "    }\n",
       "</style>\n",
       "<table border=\"1\" class=\"dataframe\">\n",
       "  <thead>\n",
       "    <tr style=\"text-align: right;\">\n",
       "      <th></th>\n",
       "      <th>Name</th>\n",
       "      <th>City</th>\n",
       "      <th>Reviews</th>\n",
       "      <th>Rating</th>\n",
       "      <th>Distance</th>\n",
       "      <th>Nights</th>\n",
       "      <th>No_of_adult</th>\n",
       "      <th>Price</th>\n",
       "      <th>No_of_room</th>\n",
       "    </tr>\n",
       "  </thead>\n",
       "  <tbody>\n",
       "    <tr>\n",
       "      <th>0</th>\n",
       "      <td>One Constitution Avenue by Goldfinch</td>\n",
       "      <td>Islamabad</td>\n",
       "      <td>234.0</td>\n",
       "      <td>7.4</td>\n",
       "      <td>2.3</td>\n",
       "      <td>1</td>\n",
       "      <td>1</td>\n",
       "      <td>18240</td>\n",
       "      <td>1</td>\n",
       "    </tr>\n",
       "    <tr>\n",
       "      <th>1</th>\n",
       "      <td>Villa Vista</td>\n",
       "      <td>Islamabad</td>\n",
       "      <td>17.0</td>\n",
       "      <td>9.1</td>\n",
       "      <td>1.6</td>\n",
       "      <td>1</td>\n",
       "      <td>1</td>\n",
       "      <td>22320</td>\n",
       "      <td>1</td>\n",
       "    </tr>\n",
       "    <tr>\n",
       "      <th>2</th>\n",
       "      <td>SK Residence</td>\n",
       "      <td>Islamabad</td>\n",
       "      <td>98.0</td>\n",
       "      <td>9.0</td>\n",
       "      <td>11.7</td>\n",
       "      <td>1</td>\n",
       "      <td>1</td>\n",
       "      <td>7600</td>\n",
       "      <td>1</td>\n",
       "    </tr>\n",
       "    <tr>\n",
       "      <th>3</th>\n",
       "      <td>Royal Regency Hotel</td>\n",
       "      <td>Islamabad</td>\n",
       "      <td>37.0</td>\n",
       "      <td>8.2</td>\n",
       "      <td>1.0</td>\n",
       "      <td>1</td>\n",
       "      <td>1</td>\n",
       "      <td>22032</td>\n",
       "      <td>1</td>\n",
       "    </tr>\n",
       "    <tr>\n",
       "      <th>4</th>\n",
       "      <td>Serenity Corner</td>\n",
       "      <td>Islamabad</td>\n",
       "      <td>100.0</td>\n",
       "      <td>8.1</td>\n",
       "      <td>18.3</td>\n",
       "      <td>1</td>\n",
       "      <td>1</td>\n",
       "      <td>15000</td>\n",
       "      <td>1</td>\n",
       "    </tr>\n",
       "  </tbody>\n",
       "</table>\n",
       "</div>"
      ],
      "text/plain": [
       "                                   Name       City  Reviews  Rating  Distance  \\\n",
       "0  One Constitution Avenue by Goldfinch  Islamabad    234.0     7.4       2.3   \n",
       "1                           Villa Vista  Islamabad     17.0     9.1       1.6   \n",
       "2                          SK Residence  Islamabad     98.0     9.0      11.7   \n",
       "3                   Royal Regency Hotel  Islamabad     37.0     8.2       1.0   \n",
       "4                       Serenity Corner  Islamabad    100.0     8.1      18.3   \n",
       "\n",
       "   Nights  No_of_adult  Price  No_of_room  \n",
       "0       1            1  18240           1  \n",
       "1       1            1  22320           1  \n",
       "2       1            1   7600           1  \n",
       "3       1            1  22032           1  \n",
       "4       1            1  15000           1  "
      ]
     },
     "execution_count": 11,
     "metadata": {},
     "output_type": "execute_result"
    }
   ],
   "source": [
    "df.head()"
   ]
  },
  {
   "cell_type": "markdown",
   "id": "e39cee8c",
   "metadata": {},
   "source": [
    "### Removing outliers"
   ]
  },
  {
   "cell_type": "code",
   "execution_count": 12,
   "id": "727c58f4",
   "metadata": {},
   "outputs": [
    {
     "name": "stderr",
     "output_type": "stream",
     "text": [
      "C:\\Users\\saadr\\anaconda3\\lib\\site-packages\\seaborn\\_decorators.py:36: FutureWarning: Pass the following variable as a keyword arg: x. From version 0.12, the only valid positional argument will be `data`, and passing other arguments without an explicit keyword will result in an error or misinterpretation.\n",
      "  warnings.warn(\n"
     ]
    },
    {
     "data": {
      "image/png": "[encoded data removed]",
      "text/plain": [
       "<Figure size 432x288 with 1 Axes>"
      ]
     },
     "metadata": {
      "needs_background": "light"
     },
     "output_type": "display_data"
    },
    {
     "name": "stderr",
     "output_type": "stream",
     "text": [
      "C:\\Users\\saadr\\anaconda3\\lib\\site-packages\\seaborn\\_decorators.py:36: FutureWarning: Pass the following variable as a keyword arg: x. From version 0.12, the only valid positional argument will be `data`, and passing other arguments without an explicit keyword will result in an error or misinterpretation.\n",
      "  warnings.warn(\n"
     ]
    },
    {
     "data": {
      "image/png": "[encoded data removed]",
      "text/plain": [
       "<Figure size 432x288 with 1 Axes>"
      ]
     },
     "metadata": {
      "needs_background": "light"
     },
     "output_type": "display_data"
    },
    {
     "name": "stderr",
     "output_type": "stream",
     "text": [
      "C:\\Users\\saadr\\anaconda3\\lib\\site-packages\\seaborn\\_decorators.py:36: FutureWarning: Pass the following variable as a keyword arg: x. From version 0.12, the only valid positional argument will be `data`, and passing other arguments without an explicit keyword will result in an error or misinterpretation.\n",
      "  warnings.warn(\n"
     ]
    },
    {
     "data": {
      "image/png": "[encoded data removed]",
      "text/plain": [
       "<Figure size 432x288 with 1 Axes>"
      ]
     },
     "metadata": {
      "needs_background": "light"
     },
     "output_type": "display_data"
    }
   ],
   "source": [
    "target_columns = ['Reviews','Rating','Distance']\n",
    "\n",
    "\n",
    "for columns in df.columns:\n",
    "    if columns in target_columns:\n",
    "        plt.Figure(figsize=(8,4))\n",
    "        sns.boxplot(df[columns])\n",
    "        plt.title(f'boxplot of {columns}')\n",
    "        plt.show()"
   ]
  },
  {
   "cell_type": "code",
   "execution_count": 13,
   "id": "8c4b6132",
   "metadata": {},
   "outputs": [],
   "source": [
    "q1 = df['Reviews'].quantile(0.25)\n",
    "q3 = df['Reviews'].quantile(0.75)\n",
    "iqr = q3 - q1\n",
    "\n",
    "lower_bound = q1 - 1.5*iqr\n",
    "upper_bound = q3 + 1.5*iqr\n",
    "\n",
    "# df['Reviews'] = np.where(df['Reviews'] < lower_bound, lower_bound,\n",
    "#                           (np.where(df['Reviews'] > upper_bound, upper_bound, df['Reviews']))\n",
    "#                           )\n",
    "df = df[(df['Reviews']<upper_bound)&(df['Reviews']>lower_bound)]"
   ]
  },
  {
   "cell_type": "code",
   "execution_count": 14,
   "id": "b8ed9b68",
   "metadata": {},
   "outputs": [
    {
     "data": {
      "text/plain": [
       "(5553, 9)"
      ]
     },
     "execution_count": 14,
     "metadata": {},
     "output_type": "execute_result"
    }
   ],
   "source": [
    "df.shape"
   ]
  },
  {
   "cell_type": "code",
   "execution_count": null,
   "id": "2169da5a",
   "metadata": {},
   "outputs": [],
   "source": []
  },
  {
   "cell_type": "code",
   "execution_count": 15,
   "id": "d15b1478",
   "metadata": {},
   "outputs": [],
   "source": [
    "q1 = df['Rating'].quantile(0.25)\n",
    "q3 = df['Rating'].quantile(0.75)\n",
    "iqr = q3 - q1\n",
    "\n",
    "lower_bound = q1 - 1.5*iqr\n",
    "upper_bound = q3 + 1.5*iqr\n",
    "\n",
    "# df['Rating'] = np.where(df['Rating'] < lower_bound, lower_bound,\n",
    "#                           (np.where(df['Rating'] > upper_bound, upper_bound, df['Rating']))\n",
    "#                           )\n",
    "\n",
    "df = df[(df['Rating']<upper_bound)&(df['Rating']>lower_bound)]"
   ]
  },
  {
   "cell_type": "code",
   "execution_count": 16,
   "id": "8107f4f5",
   "metadata": {},
   "outputs": [],
   "source": [
    "q1 = df['Distance'].quantile(0.25)\n",
    "q3 = df['Distance'].quantile(0.75)\n",
    "iqr = q3 - q1\n",
    "\n",
    "lower_bound = q1 - 1.5*iqr\n",
    "upper_bound = q3 + 1.5*iqr\n",
    "\n",
    "# df['Distance'] = np.where(df['Distance'] < lower_bound, lower_bound,\n",
    "#                           (np.where(df['Distance'] > upper_bound, upper_bound, df['Distance']))\n",
    "#                           )\n",
    "\n",
    "df = df[(df['Distance']<upper_bound)&(df['Distance']>lower_bound)]"
   ]
  },
  {
   "cell_type": "code",
   "execution_count": 17,
   "id": "fd51511e",
   "metadata": {},
   "outputs": [
    {
     "name": "stderr",
     "output_type": "stream",
     "text": [
      "C:\\Users\\saadr\\anaconda3\\lib\\site-packages\\seaborn\\_decorators.py:36: FutureWarning: Pass the following variable as a keyword arg: x. From version 0.12, the only valid positional argument will be `data`, and passing other arguments without an explicit keyword will result in an error or misinterpretation.\n",
      "  warnings.warn(\n"
     ]
    },
    {
     "data": {
      "image/png": "[encoded data removed]",
      "text/plain": [
       "<Figure size 432x288 with 1 Axes>"
      ]
     },
     "metadata": {
      "needs_background": "light"
     },
     "output_type": "display_data"
    },
    {
     "name": "stderr",
     "output_type": "stream",
     "text": [
      "C:\\Users\\saadr\\anaconda3\\lib\\site-packages\\seaborn\\_decorators.py:36: FutureWarning: Pass the following variable as a keyword arg: x. From version 0.12, the only valid positional argument will be `data`, and passing other arguments without an explicit keyword will result in an error or misinterpretation.\n",
      "  warnings.warn(\n"
     ]
    },
    {
     "data": {
      "image/png": "[encoded data removed]",
      "text/plain": [
       "<Figure size 432x288 with 1 Axes>"
      ]
     },
     "metadata": {
      "needs_background": "light"
     },
     "output_type": "display_data"
    },
    {
     "name": "stderr",
     "output_type": "stream",
     "text": [
      "C:\\Users\\saadr\\anaconda3\\lib\\site-packages\\seaborn\\_decorators.py:36: FutureWarning: Pass the following variable as a keyword arg: x. From version 0.12, the only valid positional argument will be `data`, and passing other arguments without an explicit keyword will result in an error or misinterpretation.\n",
      "  warnings.warn(\n"
     ]
    },
    {
     "data": {
      "image/png": "[encoded data removed]",
      "text/plain": [
       "<Figure size 432x288 with 1 Axes>"
      ]
     },
     "metadata": {
      "needs_background": "light"
     },
     "output_type": "display_data"
    }
   ],
   "source": [
    "target_columns = ['Reviews','Rating','Distance']\n",
    "\n",
    "\n",
    "for columns in df.columns:\n",
    "    if columns in target_columns:\n",
    "        plt.Figure(figsize=(8,4))\n",
    "        sns.boxplot(df[columns])\n",
    "        plt.title(f'boxplot of {columns}')\n",
    "        plt.show()"
   ]
  },
  {
   "cell_type": "code",
   "execution_count": 18,
   "id": "b496c7dd",
   "metadata": {},
   "outputs": [],
   "source": [
    "df['Rating'] = np.where(df['Rating'] < lower_bound, lower_bound,\n",
    "                          (np.where(df['Rating'] > upper_bound, upper_bound, df['Rating']))\n",
    "                          )\n",
    "\n",
    "\n",
    "df['Distance'] = np.where(df['Distance'] < lower_bound, lower_bound,\n",
    "                          (np.where(df['Distance'] > upper_bound, upper_bound, df['Distance']))\n",
    "                          )\n",
    "\n",
    "df['Reviews'] = np.where(df['Reviews'] < lower_bound, lower_bound,\n",
    "                          (np.where(df['Reviews'] > upper_bound, upper_bound, df['Reviews']))\n",
    "                          )"
   ]
  },
  {
   "cell_type": "code",
   "execution_count": 19,
   "id": "acafc611",
   "metadata": {},
   "outputs": [
    {
     "name": "stderr",
     "output_type": "stream",
     "text": [
      "C:\\Users\\saadr\\anaconda3\\lib\\site-packages\\seaborn\\_decorators.py:36: FutureWarning: Pass the following variable as a keyword arg: x. From version 0.12, the only valid positional argument will be `data`, and passing other arguments without an explicit keyword will result in an error or misinterpretation.\n",
      "  warnings.warn(\n"
     ]
    },
    {
     "data": {
      "image/png": "[encoded data removed]",
      "text/plain": [
       "<Figure size 432x288 with 1 Axes>"
      ]
     },
     "metadata": {
      "needs_background": "light"
     },
     "output_type": "display_data"
    },
    {
     "name": "stderr",
     "output_type": "stream",
     "text": [
      "C:\\Users\\saadr\\anaconda3\\lib\\site-packages\\seaborn\\_decorators.py:36: FutureWarning: Pass the following variable as a keyword arg: x. From version 0.12, the only valid positional argument will be `data`, and passing other arguments without an explicit keyword will result in an error or misinterpretation.\n",
      "  warnings.warn(\n"
     ]
    },
    {
     "data": {
      "image/png": "[encoded data removed]",
      "text/plain": [
       "<Figure size 432x288 with 1 Axes>"
      ]
     },
     "metadata": {
      "needs_background": "light"
     },
     "output_type": "display_data"
    },
    {
     "name": "stderr",
     "output_type": "stream",
     "text": [
      "C:\\Users\\saadr\\anaconda3\\lib\\site-packages\\seaborn\\_decorators.py:36: FutureWarning: Pass the following variable as a keyword arg: x. From version 0.12, the only valid positional argument will be `data`, and passing other arguments without an explicit keyword will result in an error or misinterpretation.\n",
      "  warnings.warn(\n"
     ]
    },
    {
     "data": {
      "image/png": "[encoded data removed]",
      "text/plain": [
       "<Figure size 432x288 with 1 Axes>"
      ]
     },
     "metadata": {
      "needs_background": "light"
     },
     "output_type": "display_data"
    }
   ],
   "source": [
    "target_columns = ['Reviews','Rating','Distance']\n",
    "\n",
    "\n",
    "for columns in df.columns:\n",
    "    if columns in target_columns:\n",
    "        plt.Figure(figsize=(8,4))\n",
    "        sns.boxplot(df[columns])\n",
    "        plt.title(f'boxplot of {columns}')\n",
    "        plt.show()"
   ]
  },
  {
   "cell_type": "code",
   "execution_count": 20,
   "id": "2a00f501",
   "metadata": {},
   "outputs": [],
   "source": [
    "q1 = df['Rating'].quantile(0.25)\n",
    "q3 = df['Rating'].quantile(0.75)\n",
    "iqr = q3 - q1\n",
    "\n",
    "lower_bound = q1 - 1.5*iqr\n",
    "upper_bound = q3 + 1.5*iqr\n",
    "\n",
    "# df['Rating'] = np.where(df['Rating'] < lower_bound, lower_bound,\n",
    "#                           (np.where(df['Rating'] > upper_bound, upper_bound, df['Rating']))\n",
    "#                           )\n",
    "\n",
    "df = df[(df['Rating']<upper_bound)&(df['Rating']>lower_bound)]"
   ]
  },
  {
   "cell_type": "code",
   "execution_count": 21,
   "id": "58dd56ea",
   "metadata": {},
   "outputs": [],
   "source": [
    "q1 = df['Distance'].quantile(0.25)\n",
    "q3 = df['Distance'].quantile(0.75)\n",
    "iqr = q3 - q1\n",
    "\n",
    "lower_bound = q1 - 1.5*iqr\n",
    "upper_bound = q3 + 1.5*iqr\n",
    "\n",
    "# df['Distance'] = np.where(df['Distance'] < lower_bound, lower_bound,\n",
    "#                           (np.where(df['Distance'] > upper_bound, upper_bound, df['Distance']))\n",
    "#                           )\n",
    "\n",
    "df = df[(df['Distance']<upper_bound)&(df['Distance']>lower_bound)]"
   ]
  },
  {
   "cell_type": "code",
   "execution_count": 22,
   "id": "f348e841",
   "metadata": {},
   "outputs": [
    {
     "data": {
      "image/png": "[encoded data removed]",
      "text/plain": [
       "<Figure size 432x288 with 2 Axes>"
      ]
     },
     "metadata": {
      "needs_background": "light"
     },
     "output_type": "display_data"
    }
   ],
   "source": [
    "correlation_matrix = df.corr()\n",
    "sns.heatmap(correlation_matrix, annot=True, cmap='coolwarm')\n",
    "plt.title('Correlation Matrix')\n",
    "plt.show()"
   ]
  },
  {
   "cell_type": "code",
   "execution_count": 23,
   "id": "bda1f5c7",
   "metadata": {},
   "outputs": [
    {
     "data": {
      "image/png": "[encoded data removed]",
      "text/plain": [
       "<Figure size 432x288 with 1 Axes>"
      ]
     },
     "metadata": {
      "needs_background": "light"
     },
     "output_type": "display_data"
    },
    {
     "data": {
      "image/png": "[encoded data removed]",
      "text/plain": [
       "<Figure size 432x288 with 1 Axes>"
      ]
     },
     "metadata": {
      "needs_background": "light"
     },
     "output_type": "display_data"
    },
    {
     "data": {
      "image/png": "[encoded data removed]",
      "text/plain": [
       "<Figure size 432x288 with 1 Axes>"
      ]
     },
     "metadata": {
      "needs_background": "light"
     },
     "output_type": "display_data"
    }
   ],
   "source": [
    "target_columns = ['Reviews','Rating','Distance']\n",
    "\n",
    "\n",
    "for columns in df.columns:\n",
    "    if columns in target_columns:\n",
    "        plt.Figure(figsize=(8,4))\n",
    "        sns.histplot(df[columns],kde = True)\n",
    "        plt.title(f'Histogram of {columns}')\n",
    "        plt.xlabel(columns)\n",
    "        plt.ylabel('Frequency')\n",
    "        plt.show()"
   ]
  },
  {
   "cell_type": "code",
   "execution_count": 24,
   "id": "0be8b24b",
   "metadata": {},
   "outputs": [],
   "source": [
    "df = df.drop('Name',axis = 1)"
   ]
  },
  {
   "cell_type": "code",
   "execution_count": 25,
   "id": "07d67184",
   "metadata": {},
   "outputs": [],
   "source": [
    "df = df.drop_duplicates()"
   ]
  },
  {
   "cell_type": "code",
   "execution_count": 26,
   "id": "61267ccf",
   "metadata": {},
   "outputs": [
    {
     "data": {
      "text/html": [
       "<div>\n",
       "<style scoped>\n",
       "    .dataframe tbody tr th:only-of-type {\n",
       "        vertical-align: middle;\n",
       "    }\n",
       "\n",
       "    .dataframe tbody tr th {\n",
       "        vertical-align: top;\n",
       "    }\n",
       "\n",
       "    .dataframe thead th {\n",
       "        text-align: right;\n",
       "    }\n",
       "</style>\n",
       "<table border=\"1\" class=\"dataframe\">\n",
       "  <thead>\n",
       "    <tr style=\"text-align: right;\">\n",
       "      <th></th>\n",
       "      <th>City</th>\n",
       "      <th>Reviews</th>\n",
       "      <th>Rating</th>\n",
       "      <th>Distance</th>\n",
       "      <th>Nights</th>\n",
       "      <th>No_of_adult</th>\n",
       "      <th>Price</th>\n",
       "      <th>No_of_room</th>\n",
       "    </tr>\n",
       "  </thead>\n",
       "  <tbody>\n",
       "  </tbody>\n",
       "</table>\n",
       "</div>"
      ],
      "text/plain": [
       "Empty DataFrame\n",
       "Columns: [City, Reviews, Rating, Distance, Nights, No_of_adult, Price, No_of_room]\n",
       "Index: []"
      ]
     },
     "execution_count": 26,
     "metadata": {},
     "output_type": "execute_result"
    }
   ],
   "source": [
    "df[df.duplicated()]"
   ]
  },
  {
   "cell_type": "markdown",
   "id": "d1c1aa2d",
   "metadata": {},
   "source": [
    "### Train test split"
   ]
  },
  {
   "cell_type": "code",
   "execution_count": 27,
   "id": "a3a3a0b9",
   "metadata": {},
   "outputs": [],
   "source": [
    "X = df.drop('Price',axis=1)\n",
    "y = df['Price']\n",
    "\n",
    "X_train,X_holdout,y_train,y_holdout = train_test_split(X, y, test_size=0.15, random_state=42)\n",
    "X_train.shape, X_holdout.shape, y_train.shape, y_holdout.shape\n",
    "\n",
    "X_train,X_test,y_train,y_test = train_test_split(X_train, y_train, test_size=0.15, random_state=42)\n",
    "X_train.shape, X_test.shape, y_train.shape, y_test.shape\n",
    "\n",
    "imp = SimpleImputer(missing_values=np.nan,strategy='mean')\n",
    "imp.fit(X_train.iloc[:,1:3])\n",
    "\n",
    "X_train.iloc[:,1:3] = imp.transform(X_train.iloc[:,1:3])\n",
    "X_test.iloc[:,1:3] = imp.transform(X_test.iloc[:,1:3])\n",
    "\n",
    "\n",
    "ohe = OneHotEncoder(drop='first',sparse=False,dtype=np.int32)\n",
    "\n",
    "tranformer = ColumnTransformer(transformers=[('Onehot',ohe,[0]),\n",
    "                                            ],\n",
    "                              remainder='passthrough')\n",
    "\n",
    "tranformer.fit(X_train)\n",
    "X_train_encode = tranformer.transform(X_train)\n",
    "X_test_encode = tranformer.transform(X_test)\n",
    "\n",
    "ss = StandardScaler()\n",
    "ss.fit(X_train_encode)\n",
    "X_train_scale = ss.transform(X_train_encode)\n",
    "X_test_scale = ss.transform(X_test_encode)"
   ]
  },
  {
   "cell_type": "code",
   "execution_count": 28,
   "id": "ab3de6e7",
   "metadata": {},
   "outputs": [
    {
     "data": {
      "text/plain": [
       "LinearRegression()"
      ]
     },
     "execution_count": 28,
     "metadata": {},
     "output_type": "execute_result"
    }
   ],
   "source": [
    "lr_model = LinearRegression()\n",
    "lr_model.fit(X_train_scale, y_train)"
   ]
  },
  {
   "cell_type": "code",
   "execution_count": 29,
   "id": "7cdcf4bb",
   "metadata": {},
   "outputs": [
    {
     "name": "stdout",
     "output_type": "stream",
     "text": [
      "MAE: 15294.705748320006\n",
      "MSE:  1080768039.566725\n",
      "RMSE:  32875.03672342778\n"
     ]
    }
   ],
   "source": [
    "y_predicted = lr_model.predict(X_test_scale)\n",
    "\n",
    "mae = mean_absolute_error(y_test, y_predicted)\n",
    "mse = mean_squared_error(y_test, y_predicted)\n",
    "rmse = np.sqrt(mse)\n",
    "print(\"MAE:\", mae)\n",
    "print(\"MSE: \", mse)\n",
    "print(\"RMSE: \", rmse)"
   ]
  },
  {
   "cell_type": "code",
   "execution_count": 30,
   "id": "a2407245",
   "metadata": {},
   "outputs": [
    {
     "name": "stdout",
     "output_type": "stream",
     "text": [
      "R2 Score:  0.3077026973259984\n"
     ]
    }
   ],
   "source": [
    "from sklearn.metrics import r2_score\n",
    "r2 = r2_score(y_test, y_predicted)\n",
    "print(\"R2 Score: \", r2)\n"
   ]
  },
  {
   "cell_type": "code",
   "execution_count": 31,
   "id": "5c1c297e",
   "metadata": {},
   "outputs": [],
   "source": [
    "from sklearn.tree import DecisionTreeRegressor\n",
    "from sklearn.svm import SVR\n",
    "\n",
    "dt_regressor = DecisionTreeRegressor(max_depth=4)\n",
    "dt_regressor.fit(X_train_scale, y_train)\n",
    "\n",
    "\n",
    "\n",
    "dt_predictions = dt_regressor.predict(X_test_scale)\n",
    "\n",
    "dt_r2 = r2_score(y_test, dt_predictions)"
   ]
  },
  {
   "cell_type": "code",
   "execution_count": 32,
   "id": "db3e1ce9",
   "metadata": {},
   "outputs": [
    {
     "name": "stdout",
     "output_type": "stream",
     "text": [
      "dt_R2 Scores:  0.30756570656296534\n"
     ]
    }
   ],
   "source": [
    "print(\"dt_R2 Scores: \", dt_r2)"
   ]
  },
  {
   "cell_type": "code",
   "execution_count": null,
   "id": "927a3e7b",
   "metadata": {},
   "outputs": [],
   "source": [
    "from sklearn.model_selection import cross_val_score\n",
    "scores_array = cross_val_score(LinearRegression(), X_train_scale, y_train, cv=5, scoring='r2')\n"
   ]
  },
  {
   "cell_type": "code",
   "execution_count": 33,
   "id": "29de808c",
   "metadata": {},
   "outputs": [
    {
     "name": "stdout",
     "output_type": "stream",
     "text": [
      "R2 scores for all the folds:  [0.3750881  0.35891093 0.35502174 0.22930201 0.31549927]\n",
      "Mean R2 score:  0.326764408930212\n"
     ]
    }
   ],
   "source": [
    "from sklearn.model_selection import cross_val_score\n",
    "scores_array = cross_val_score(LinearRegression(), X_train_scale, y_train, cv=5, scoring='r2')\n",
    "print(\"R2 scores for all the folds: \", scores_array)\n",
    "print(\"Mean R2 score: \", np.mean(scores_array))"
   ]
  },
  {
   "cell_type": "code",
   "execution_count": 34,
   "id": "c77ba77f",
   "metadata": {},
   "outputs": [
    {
     "name": "stdout",
     "output_type": "stream",
     "text": [
      "R2 scores for all the folds:  [0.37878976 0.35890516 0.35435736 0.22702644 0.32087664]\n",
      "Mean R2 score:  0.32799107077480266\n"
     ]
    }
   ],
   "source": [
    "from sklearn.linear_model import Ridge\n",
    "cv_scores = cross_val_score(\n",
    "                             estimator = Ridge(alpha=100, solver='lsqr'), X = X_train_scale,y = y_train, scoring = 'r2',cv = 5)\n",
    "\n",
    "print(\"R2 scores for all the folds: \", cv_scores)\n",
    "print(\"Mean R2 score: \", np.mean(cv_scores))\n"
   ]
  },
  {
   "cell_type": "code",
   "execution_count": 35,
   "id": "22f1007e",
   "metadata": {},
   "outputs": [
    {
     "name": "stdout",
     "output_type": "stream",
     "text": [
      "Best Score:  0.32799696524868327\n",
      "Best Score:  {'alpha': 100, 'solver': 'svd'}\n"
     ]
    }
   ],
   "source": [
    "from sklearn.model_selection import GridSearchCV\n",
    "from sklearn.linear_model import Lasso\n",
    "\n",
    "params = { 'alpha': [1000, 100, 10, 1, 0.5],\n",
    " 'solver': ['lsqr', 'svd'] }\n",
    "gs = GridSearchCV(estimator=Ridge(), \n",
    " param_grid=params,\n",
    "scoring='r2',\n",
    "cv=5,\n",
    "n_jobs=-1) \n",
    "gs.fit(X_train_scale, y_train)\n",
    "print(\"Best Score: \", gs.best_score_)\n",
    "print(\"Best Score: \", gs.best_params_)\n"
   ]
  },
  {
   "cell_type": "code",
   "execution_count": 36,
   "id": "cf155c72",
   "metadata": {},
   "outputs": [
    {
     "name": "stdout",
     "output_type": "stream",
     "text": [
      "Best Score:  0.32731118103155393\n",
      "Best Score:  {'alpha': 100}\n"
     ]
    }
   ],
   "source": [
    "from sklearn.model_selection import GridSearchCV\n",
    "from sklearn.linear_model import Lasso\n",
    "\n",
    "params = { 'alpha': [1000000, 10000, 1000,100,10]}\n",
    "gs = GridSearchCV(estimator= Lasso(), \n",
    " param_grid=params,\n",
    "scoring='r2',\n",
    "cv=5,\n",
    "n_jobs=-1) \n",
    "gs.fit(X_train_scale, y_train)\n",
    "print(\"Best Score: \", gs.best_score_)\n",
    "print(\"Best Score: \", gs.best_params_)"
   ]
  },
  {
   "cell_type": "code",
   "execution_count": 42,
   "id": "182f121b",
   "metadata": {},
   "outputs": [
    {
     "name": "stdout",
     "output_type": "stream",
     "text": [
      "R2 scores for all the folds:  [-0.23467533 -1.39765743  0.32107668  0.17048813 -0.03137625]\n",
      "Mean R2 score:  -0.2344288396451965\n"
     ]
    }
   ],
   "source": [
    "cv_scores = cross_val_score(estimator = DecisionTreeRegressor(max_depth=6), X = X_train_scale,y = y_train, scoring = 'r2',cv = 5)\n",
    "\n",
    "print(\"R2 scores for all the folds: \", cv_scores)\n",
    "print(\"Mean R2 score: \", np.mean(cv_scores))"
   ]
  },
  {
   "cell_type": "code",
   "execution_count": 45,
   "id": "82a2c4fc",
   "metadata": {},
   "outputs": [
    {
     "data": {
      "text/html": [
       "<div>\n",
       "<style scoped>\n",
       "    .dataframe tbody tr th:only-of-type {\n",
       "        vertical-align: middle;\n",
       "    }\n",
       "\n",
       "    .dataframe tbody tr th {\n",
       "        vertical-align: top;\n",
       "    }\n",
       "\n",
       "    .dataframe thead th {\n",
       "        text-align: right;\n",
       "    }\n",
       "</style>\n",
       "<table border=\"1\" class=\"dataframe\">\n",
       "  <thead>\n",
       "    <tr style=\"text-align: right;\">\n",
       "      <th></th>\n",
       "      <th>City</th>\n",
       "      <th>Reviews</th>\n",
       "      <th>Rating</th>\n",
       "      <th>Distance</th>\n",
       "      <th>Nights</th>\n",
       "      <th>No_of_adult</th>\n",
       "      <th>Price</th>\n",
       "      <th>No_of_room</th>\n",
       "    </tr>\n",
       "  </thead>\n",
       "  <tbody>\n",
       "    <tr>\n",
       "      <th>1</th>\n",
       "      <td>Islamabad</td>\n",
       "      <td>17.0</td>\n",
       "      <td>9.1</td>\n",
       "      <td>1.6</td>\n",
       "      <td>1</td>\n",
       "      <td>1</td>\n",
       "      <td>22320</td>\n",
       "      <td>1</td>\n",
       "    </tr>\n",
       "    <tr>\n",
       "      <th>2</th>\n",
       "      <td>Islamabad</td>\n",
       "      <td>24.7</td>\n",
       "      <td>9.0</td>\n",
       "      <td>11.7</td>\n",
       "      <td>1</td>\n",
       "      <td>1</td>\n",
       "      <td>7600</td>\n",
       "      <td>1</td>\n",
       "    </tr>\n",
       "    <tr>\n",
       "      <th>3</th>\n",
       "      <td>Islamabad</td>\n",
       "      <td>24.7</td>\n",
       "      <td>8.2</td>\n",
       "      <td>1.0</td>\n",
       "      <td>1</td>\n",
       "      <td>1</td>\n",
       "      <td>22032</td>\n",
       "      <td>1</td>\n",
       "    </tr>\n",
       "    <tr>\n",
       "      <th>4</th>\n",
       "      <td>Islamabad</td>\n",
       "      <td>24.7</td>\n",
       "      <td>8.1</td>\n",
       "      <td>18.3</td>\n",
       "      <td>1</td>\n",
       "      <td>1</td>\n",
       "      <td>15000</td>\n",
       "      <td>1</td>\n",
       "    </tr>\n",
       "    <tr>\n",
       "      <th>5</th>\n",
       "      <td>Islamabad</td>\n",
       "      <td>18.0</td>\n",
       "      <td>8.1</td>\n",
       "      <td>4.5</td>\n",
       "      <td>1</td>\n",
       "      <td>1</td>\n",
       "      <td>21000</td>\n",
       "      <td>1</td>\n",
       "    </tr>\n",
       "  </tbody>\n",
       "</table>\n",
       "</div>"
      ],
      "text/plain": [
       "        City  Reviews  Rating  Distance  Nights  No_of_adult  Price  \\\n",
       "1  Islamabad     17.0     9.1       1.6       1            1  22320   \n",
       "2  Islamabad     24.7     9.0      11.7       1            1   7600   \n",
       "3  Islamabad     24.7     8.2       1.0       1            1  22032   \n",
       "4  Islamabad     24.7     8.1      18.3       1            1  15000   \n",
       "5  Islamabad     18.0     8.1       4.5       1            1  21000   \n",
       "\n",
       "   No_of_room  \n",
       "1           1  \n",
       "2           1  \n",
       "3           1  \n",
       "4           1  \n",
       "5           1  "
      ]
     },
     "execution_count": 45,
     "metadata": {},
     "output_type": "execute_result"
    }
   ],
   "source": [
    "df.head()"
   ]
  },
  {
   "cell_type": "code",
   "execution_count": 43,
   "id": "304e230e",
   "metadata": {},
   "outputs": [],
   "source": [
    "categorical_tranformer = Pipeline(steps=[('imputer',SimpleImputer(missing_values=np.nan,strategy='most_frequent')),\n",
    "                                        ('ohe',OneHotEncoder(drop='first',handle_unknown='ignore'))])"
   ]
  },
  {
   "cell_type": "code",
   "execution_count": 44,
   "id": "55b6d100",
   "metadata": {},
   "outputs": [],
   "source": [
    "numerical_tranformer = Pipeline(steps=[('impute',SimpleImputer(missing_values=np.nan,strategy='mean'))])"
   ]
  },
  {
   "cell_type": "code",
   "execution_count": 46,
   "id": "2839f53e",
   "metadata": {},
   "outputs": [],
   "source": [
    "preprocessor = ColumnTransformer(transformers=[('numerical',numerical_tranformer,[1,2,3,4,5,6]),\n",
    "                                              ('categorical',categorical_tranformer,[0])],\n",
    "                                remainder='passthrough')"
   ]
  },
  {
   "cell_type": "code",
   "execution_count": 48,
   "id": "7c3a5426",
   "metadata": {},
   "outputs": [],
   "source": [
    "model = Pipeline(steps=[('preprocessor', preprocessor),\n",
    "                       (\"scaling\",StandardScaler(with_mean=False)),\n",
    "                       ('classify',LinearRegression())])"
   ]
  },
  {
   "cell_type": "code",
   "execution_count": 49,
   "id": "4b0dca93",
   "metadata": {},
   "outputs": [
    {
     "data": {
      "text/plain": [
       "Pipeline(steps=[('preprocessor',\n",
       "                 ColumnTransformer(remainder='passthrough',\n",
       "                                   transformers=[('numerical',\n",
       "                                                  Pipeline(steps=[('impute',\n",
       "                                                                   SimpleImputer())]),\n",
       "                                                  [1, 2, 3, 4, 5, 6]),\n",
       "                                                 ('categorical',\n",
       "                                                  Pipeline(steps=[('imputer',\n",
       "                                                                   SimpleImputer(strategy='most_frequent')),\n",
       "                                                                  ('ohe',\n",
       "                                                                   OneHotEncoder(drop='first',\n",
       "                                                                                 handle_unknown='ignore'))]),\n",
       "                                                  [0])])),\n",
       "                ('scaling', StandardScaler(with_mean=False)),\n",
       "                ('classify', LinearRegression())])"
      ]
     },
     "execution_count": 49,
     "metadata": {},
     "output_type": "execute_result"
    }
   ],
   "source": [
    "model.fit(X_train,y_train)"
   ]
  },
  {
   "cell_type": "code",
   "execution_count": 50,
   "id": "53405b25",
   "metadata": {},
   "outputs": [
    {
     "name": "stdout",
     "output_type": "stream",
     "text": [
      "r2 Score: 0.3267644089302125\n"
     ]
    }
   ],
   "source": [
    "print(\"r2 Score:\", cross_val_score(model,X_train, y_train, cv=5, scoring='r2').mean())"
   ]
  },
  {
   "cell_type": "code",
   "execution_count": 51,
   "id": "9fa61cbf",
   "metadata": {},
   "outputs": [],
   "source": [
    "y_pred = model.predict(X_test)"
   ]
  },
  {
   "cell_type": "code",
   "execution_count": 52,
   "id": "e4e39982",
   "metadata": {},
   "outputs": [
    {
     "name": "stdout",
     "output_type": "stream",
     "text": [
      "MAE: 15294.70574831958\n",
      "MSE:  1080768039.5667307\n",
      "RMSE:  32875.03672342787\n",
      "R2 Score:  0.30770269732599476\n"
     ]
    }
   ],
   "source": [
    "mae = mean_absolute_error(y_test, y_pred)\n",
    "mse = mean_squared_error(y_test, y_pred)\n",
    "rmse = np.sqrt(mse)\n",
    "print(\"MAE:\", mae)\n",
    "print(\"MSE: \", mse)\n",
    "print(\"RMSE: \", rmse)\n",
    "\n",
    "r2 = r2_score(y_test, y_pred)\n",
    "print(\"R2 Score: \", r2)"
   ]
  },
  {
   "cell_type": "code",
   "execution_count": 53,
   "id": "5e8aec67",
   "metadata": {},
   "outputs": [
    {
     "name": "stdout",
     "output_type": "stream",
     "text": [
      "MAE: 14324.155354646073\n",
      "MSE:  619143590.6673582\n",
      "RMSE:  24882.5961400204\n",
      "R2 Score:  0.38877741068688143\n"
     ]
    }
   ],
   "source": [
    "y_pred_holdout = model.predict(X_holdout)\n",
    "\n",
    "mae = mean_absolute_error(y_holdout, y_pred_holdout)\n",
    "mse = mean_squared_error(y_holdout, y_pred_holdout)\n",
    "rmse = np.sqrt(mse)\n",
    "print(\"MAE:\", mae)\n",
    "print(\"MSE: \", mse)\n",
    "print(\"RMSE: \", rmse)\n",
    "\n",
    "r2 = r2_score(y_holdout, y_pred_holdout)\n",
    "print(\"R2 Score: \", r2)"
   ]
  },
  {
   "cell_type": "code",
   "execution_count": null,
   "id": "17f11828",
   "metadata": {},
   "outputs": [],
   "source": []
  },
  {
   "cell_type": "code",
   "execution_count": 54,
   "id": "1b90416e",
   "metadata": {},
   "outputs": [
    {
     "data": {
      "text/plain": [
       "['lr_regression.pkl']"
      ]
     },
     "execution_count": 54,
     "metadata": {},
     "output_type": "execute_result"
    }
   ],
   "source": [
    "import joblib\n",
    "joblib.dump(model,'lr_regression.pkl')"
   ]
  },
  {
   "cell_type": "code",
   "execution_count": 55,
   "id": "cbf85bf5",
   "metadata": {},
   "outputs": [],
   "source": [
    "loaded_model = joblib.load('lr_regression.pkl')"
   ]
  },
  {
   "cell_type": "code",
   "execution_count": 61,
   "id": "06ad93fc",
   "metadata": {},
   "outputs": [],
   "source": [
    "City = 'Lahore'\n",
    "Reviews = 10\n",
    "Rating = 7.8\n",
    "Distance = 3\n",
    "Nights = 2\n",
    "No_of_adult = 3 \n",
    "No_of_room = 1"
   ]
  },
  {
   "cell_type": "code",
   "execution_count": 64,
   "id": "b4bf6c53",
   "metadata": {},
   "outputs": [],
   "source": [
    "test_input = np.array([[City, Reviews, Rating, Distance,Nights ,No_of_adult, No_of_room]], dtype= 'object')"
   ]
  },
  {
   "cell_type": "code",
   "execution_count": 65,
   "id": "7c875441",
   "metadata": {},
   "outputs": [
    {
     "name": "stdout",
     "output_type": "stream",
     "text": [
      "loaded_model [48437.08322927]\n"
     ]
    },
    {
     "name": "stderr",
     "output_type": "stream",
     "text": [
      "C:\\Users\\saadr\\anaconda3\\lib\\site-packages\\sklearn\\base.py:450: UserWarning: X does not have valid feature names, but SimpleImputer was fitted with feature names\n",
      "  warnings.warn(\n",
      "C:\\Users\\saadr\\anaconda3\\lib\\site-packages\\sklearn\\base.py:450: UserWarning: X does not have valid feature names, but SimpleImputer was fitted with feature names\n",
      "  warnings.warn(\n"
     ]
    }
   ],
   "source": [
    "print(\"loaded_model\", loaded_model.predict(test_input))"
   ]
  },
  {
   "cell_type": "code",
   "execution_count": null,
   "id": "b6f5db88",
   "metadata": {},
   "outputs": [],
   "source": [
    "### I should add to more data and feature to this model to avoid underfiting"
   ]
  }
 ],
 "metadata": {
  "kernelspec": {
   "display_name": "Python 3 (ipykernel)",
   "language": "python",
   "name": "python3"
  },
  "language_info": {
   "codemirror_mode": {
    "name": "ipython",
    "version": 3
   },
   "file_extension": ".py",
   "mimetype": "text/x-python",
   "name": "python",
   "nbconvert_exporter": "python",
   "pygments_lexer": "ipython3",
   "version": "3.9.12"
  }
 },
 "nbformat": 4,
 "nbformat_minor": 5
}
